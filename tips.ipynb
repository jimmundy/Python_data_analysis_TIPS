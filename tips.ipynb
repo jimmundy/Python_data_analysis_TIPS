{
 "cells": [
  {
   "cell_type": "markdown",
   "metadata": {},
   "source": [
    "<h2>Manipulate dataFrame with new index column</h2>"
   ]
  },
  {
   "cell_type": "code",
   "execution_count": 27,
   "metadata": {},
   "outputs": [],
   "source": [
    "import pandas as pd"
   ]
  },
  {
   "cell_type": "code",
   "execution_count": 22,
   "metadata": {},
   "outputs": [
    {
     "data": {
      "text/html": [
       "<div>\n",
       "<style scoped>\n",
       "    .dataframe tbody tr th:only-of-type {\n",
       "        vertical-align: middle;\n",
       "    }\n",
       "\n",
       "    .dataframe tbody tr th {\n",
       "        vertical-align: top;\n",
       "    }\n",
       "\n",
       "    .dataframe thead th {\n",
       "        text-align: right;\n",
       "    }\n",
       "</style>\n",
       "<table border=\"1\" class=\"dataframe\">\n",
       "  <thead>\n",
       "    <tr style=\"text-align: right;\">\n",
       "      <th></th>\n",
       "      <th>Date</th>\n",
       "      <th>Open</th>\n",
       "      <th>High</th>\n",
       "      <th>Low</th>\n",
       "      <th>Close</th>\n",
       "      <th>Volume</th>\n",
       "    </tr>\n",
       "  </thead>\n",
       "  <tbody>\n",
       "    <tr>\n",
       "      <th>0</th>\n",
       "      <td>7-Dec-16</td>\n",
       "      <td>195.95</td>\n",
       "      <td>195.98</td>\n",
       "      <td>195.94</td>\n",
       "      <td>195.96</td>\n",
       "      <td>3024607</td>\n",
       "    </tr>\n",
       "    <tr>\n",
       "      <th>1</th>\n",
       "      <td>6-Dec-16</td>\n",
       "      <td>195.28</td>\n",
       "      <td>195.95</td>\n",
       "      <td>195.26</td>\n",
       "      <td>195.94</td>\n",
       "      <td>4005017</td>\n",
       "    </tr>\n",
       "    <tr>\n",
       "      <th>2</th>\n",
       "      <td>5-Dec-16</td>\n",
       "      <td>195.25</td>\n",
       "      <td>195.40</td>\n",
       "      <td>195.25</td>\n",
       "      <td>195.25</td>\n",
       "      <td>1184931</td>\n",
       "    </tr>\n",
       "    <tr>\n",
       "      <th>3</th>\n",
       "      <td>2-Dec-16</td>\n",
       "      <td>195.25</td>\n",
       "      <td>195.35</td>\n",
       "      <td>195.17</td>\n",
       "      <td>195.20</td>\n",
       "      <td>1520838</td>\n",
       "    </tr>\n",
       "    <tr>\n",
       "      <th>4</th>\n",
       "      <td>1-Dec-16</td>\n",
       "      <td>195.22</td>\n",
       "      <td>195.40</td>\n",
       "      <td>195.14</td>\n",
       "      <td>195.31</td>\n",
       "      <td>1683012</td>\n",
       "    </tr>\n",
       "  </tbody>\n",
       "</table>\n",
       "</div>"
      ],
      "text/plain": [
       "       Date    Open    High     Low   Close   Volume\n",
       "0  7-Dec-16  195.95  195.98  195.94  195.96  3024607\n",
       "1  6-Dec-16  195.28  195.95  195.26  195.94  4005017\n",
       "2  5-Dec-16  195.25  195.40  195.25  195.25  1184931\n",
       "3  2-Dec-16  195.25  195.35  195.17  195.20  1520838\n",
       "4  1-Dec-16  195.22  195.40  195.14  195.31  1683012"
      ]
     },
     "execution_count": 22,
     "metadata": {},
     "output_type": "execute_result"
    }
   ],
   "source": [
    "df= pd.read_csv('lnkd.csv')\n",
    "df.head()"
   ]
  },
  {
   "cell_type": "code",
   "execution_count": 23,
   "metadata": {},
   "outputs": [],
   "source": [
    "df= pd.read_csv('lnkd.csv', parse_dates=['Date'], index_col='Date')"
   ]
  },
  {
   "cell_type": "code",
   "execution_count": 24,
   "metadata": {
    "scrolled": true
   },
   "outputs": [
    {
     "data": {
      "text/html": [
       "<div>\n",
       "<style scoped>\n",
       "    .dataframe tbody tr th:only-of-type {\n",
       "        vertical-align: middle;\n",
       "    }\n",
       "\n",
       "    .dataframe tbody tr th {\n",
       "        vertical-align: top;\n",
       "    }\n",
       "\n",
       "    .dataframe thead th {\n",
       "        text-align: right;\n",
       "    }\n",
       "</style>\n",
       "<table border=\"1\" class=\"dataframe\">\n",
       "  <thead>\n",
       "    <tr style=\"text-align: right;\">\n",
       "      <th></th>\n",
       "      <th>Open</th>\n",
       "      <th>High</th>\n",
       "      <th>Low</th>\n",
       "      <th>Close</th>\n",
       "      <th>Volume</th>\n",
       "    </tr>\n",
       "    <tr>\n",
       "      <th>Date</th>\n",
       "      <th></th>\n",
       "      <th></th>\n",
       "      <th></th>\n",
       "      <th></th>\n",
       "      <th></th>\n",
       "    </tr>\n",
       "  </thead>\n",
       "  <tbody>\n",
       "    <tr>\n",
       "      <th>2016-12-07</th>\n",
       "      <td>195.95</td>\n",
       "      <td>195.98</td>\n",
       "      <td>195.94</td>\n",
       "      <td>195.96</td>\n",
       "      <td>3024607</td>\n",
       "    </tr>\n",
       "    <tr>\n",
       "      <th>2016-12-06</th>\n",
       "      <td>195.28</td>\n",
       "      <td>195.95</td>\n",
       "      <td>195.26</td>\n",
       "      <td>195.94</td>\n",
       "      <td>4005017</td>\n",
       "    </tr>\n",
       "    <tr>\n",
       "      <th>2016-12-05</th>\n",
       "      <td>195.25</td>\n",
       "      <td>195.40</td>\n",
       "      <td>195.25</td>\n",
       "      <td>195.25</td>\n",
       "      <td>1184931</td>\n",
       "    </tr>\n",
       "    <tr>\n",
       "      <th>2016-12-02</th>\n",
       "      <td>195.25</td>\n",
       "      <td>195.35</td>\n",
       "      <td>195.17</td>\n",
       "      <td>195.20</td>\n",
       "      <td>1520838</td>\n",
       "    </tr>\n",
       "    <tr>\n",
       "      <th>2016-12-01</th>\n",
       "      <td>195.22</td>\n",
       "      <td>195.40</td>\n",
       "      <td>195.14</td>\n",
       "      <td>195.31</td>\n",
       "      <td>1683012</td>\n",
       "    </tr>\n",
       "  </tbody>\n",
       "</table>\n",
       "</div>"
      ],
      "text/plain": [
       "              Open    High     Low   Close   Volume\n",
       "Date                                               \n",
       "2016-12-07  195.95  195.98  195.94  195.96  3024607\n",
       "2016-12-06  195.28  195.95  195.26  195.94  4005017\n",
       "2016-12-05  195.25  195.40  195.25  195.25  1184931\n",
       "2016-12-02  195.25  195.35  195.17  195.20  1520838\n",
       "2016-12-01  195.22  195.40  195.14  195.31  1683012"
      ]
     },
     "execution_count": 24,
     "metadata": {},
     "output_type": "execute_result"
    }
   ],
   "source": [
    "df.head()"
   ]
  },
  {
   "cell_type": "code",
   "execution_count": null,
   "metadata": {},
   "outputs": [],
   "source": []
  }
 ],
 "metadata": {
  "kernelspec": {
   "display_name": "Python 3",
   "language": "python",
   "name": "python3"
  },
  "language_info": {
   "codemirror_mode": {
    "name": "ipython",
    "version": 3
   },
   "file_extension": ".py",
   "mimetype": "text/x-python",
   "name": "python",
   "nbconvert_exporter": "python",
   "pygments_lexer": "ipython3",
   "version": "3.6.8"
  }
 },
 "nbformat": 4,
 "nbformat_minor": 2
}
